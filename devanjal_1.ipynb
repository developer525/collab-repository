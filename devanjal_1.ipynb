{
  "nbformat": 4,
  "nbformat_minor": 0,
  "metadata": {
    "colab": {
      "provenance": [],
      "authorship_tag": "ABX9TyO622yNWh0Lgs0Rqj3izvYv",
      "include_colab_link": true
    },
    "kernelspec": {
      "name": "python3",
      "display_name": "Python 3"
    },
    "language_info": {
      "name": "python"
    }
  },
  "cells": [
    {
      "cell_type": "markdown",
      "metadata": {
        "id": "view-in-github",
        "colab_type": "text"
      },
      "source": [
        "<a href=\"https://colab.research.google.com/github/developer525/collab-repository/blob/main/devanjal_1.ipynb\" target=\"_parent\"><img src=\"https://colab.research.google.com/assets/colab-badge.svg\" alt=\"Open In Colab\"/></a>"
      ]
    },
    {
      "cell_type": "markdown",
      "source": [
        "PYTHON ,NUMPY AND VECTORISATION"
      ],
      "metadata": {
        "id": "H5CHWe5Cvro4"
      }
    },
    {
      "cell_type": "code",
      "execution_count": 47,
      "metadata": {
        "id": "rmnM9ZSbvmrP"
      },
      "outputs": [],
      "source": [
        "import numpy as np\n",
        "import time"
      ]
    },
    {
      "cell_type": "markdown",
      "source": [
        "In maths index are from 01 to n.\n",
        "In computer science index runs from 0 to n-1"
      ],
      "metadata": {
        "id": "xVldmqRKwIvN"
      }
    },
    {
      "cell_type": "code",
      "source": [
        "#Numpy routines which allocate memory and fill arrays with value\n",
        "a = np.zeros(4);\n",
        "print(f\"np.zeros(4) :   a = {a}, a shape = {a.shape}, a data type = {a.dtype}\")\n",
        "a= np.zeros((4,));\n",
        "print(f\"np.zeros(4,) :  a = {a}, a shape = {a.shape}, a data type = {a.dtype}\")\n",
        "a= np.random.random_sample(4);\n",
        "print(f\"np.random.random_sample(4): a = {a}, a shape = {a.shape}, a data type = {a.dtype}\")"
      ],
      "metadata": {
        "colab": {
          "base_uri": "https://localhost:8080/"
        },
        "id": "0A5ydxLQv0xz",
        "outputId": "1d6c3cea-ffa6-4ff1-8f3a-fcc6fc06f63d"
      },
      "execution_count": 48,
      "outputs": [
        {
          "output_type": "stream",
          "name": "stdout",
          "text": [
            "np.zeros(4) :   a = [0. 0. 0. 0.], a shape = (4,), a data type = float64\n",
            "np.zeros(4,) :  a = [0. 0. 0. 0.], a shape = (4,), a data type = float64\n",
            "np.random.random_sample(4): a = [0.44236513 0.04997798 0.77390955 0.93782363], a shape = (4,), a data type = float64\n"
          ]
        }
      ]
    },
    {
      "cell_type": "code",
      "source": [
        "#Numpy routines which allocate memory and fill arrays with values but do not accept shape as input\n",
        "a = np.arange(4.);\n",
        "print(f\"np.arange(4.):     a = {a}, a shape = {a.shape}, a data type = {a.dtype}\")\n",
        "a = np.random.rand(4);\n",
        "print(f\"np.random.rand(4): a = {a}, a shape = {a.shape}, a data type = {a.dtype}\")"
      ],
      "metadata": {
        "colab": {
          "base_uri": "https://localhost:8080/"
        },
        "id": "CngI1oXH0MZA",
        "outputId": "440c0e3e-b98a-439f-fa70-78803ef633aa"
      },
      "execution_count": 49,
      "outputs": [
        {
          "output_type": "stream",
          "name": "stdout",
          "text": [
            "np.arange(4.):     a = [0. 1. 2. 3.], a shape = (4,), a data type = float64\n",
            "np.random.rand(4): a = [0.5792328  0.53516563 0.80204309 0.24814448], a shape = (4,), a data type = float64\n"
          ]
        }
      ]
    },
    {
      "cell_type": "code",
      "source": [
        "#Numpy routines which allocate memory and fill with user specified values\n",
        "a = np.array([5,4,3,2]);\n",
        "print(f\"np.array([5,4,3,2]):  a = {a},     a shape = {a.shape}, a data type = {a.dtype}\")\n",
        "a = np.array([5.,4,3,2]);\n",
        "print(f\"np.array([5.,4,3,2]): a = {a}, a shape = {a.shape}, a data type = {a.dtype}\")"
      ],
      "metadata": {
        "colab": {
          "base_uri": "https://localhost:8080/"
        },
        "id": "rELr48QD5LCO",
        "outputId": "f5e2e925-26b8-45b6-a114-bbfccddf7ffd"
      },
      "execution_count": 50,
      "outputs": [
        {
          "output_type": "stream",
          "name": "stdout",
          "text": [
            "np.array([5,4,3,2]):  a = [5 4 3 2],     a shape = (4,), a data type = int64\n",
            "np.array([5.,4,3,2]): a = [5. 4. 3. 2.], a shape = (4,), a data type = float64\n"
          ]
        }
      ]
    },
    {
      "cell_type": "markdown",
      "source": [
        "**INDEXING**"
      ],
      "metadata": {
        "id": "w-NrPgKz8LVU"
      }
    },
    {
      "cell_type": "code",
      "source": [
        "a = np.arange(10)\n",
        "print(a)\n",
        "\n",
        "#access an element\n",
        "print(a[2])\n",
        "\n",
        "#access the last element, negative indexes count from the end\n",
        "print(a[-1])\n",
        "\n",
        "#indexs must be within the range of the vector or they will produce and error\n",
        "try:\n",
        "    c = a[10]\n",
        "except Exception as e:\n",
        "    print(\"The error message you'll see is:\")\n",
        "    print(e)\n"
      ],
      "metadata": {
        "colab": {
          "base_uri": "https://localhost:8080/"
        },
        "id": "b3U6A-D66kRn",
        "outputId": "264b24e0-ed08-4625-a2fd-e4e1931271c8"
      },
      "execution_count": 51,
      "outputs": [
        {
          "output_type": "stream",
          "name": "stdout",
          "text": [
            "[0 1 2 3 4 5 6 7 8 9]\n",
            "2\n",
            "9\n",
            "The error message you'll see is:\n",
            "index 10 is out of bounds for axis 0 with size 10\n"
          ]
        }
      ]
    },
    {
      "cell_type": "markdown",
      "source": [
        "**SLICING**"
      ],
      "metadata": {
        "id": "Ys4Cf0EK8OyD"
      }
    },
    {
      "cell_type": "code",
      "source": [
        "a =np.arange(10)\n",
        "print(f\"a         = {a}\")\n",
        "\n",
        "#access 5 consecutive elements (start:stop:step)\n",
        "c = a[2:7:1];\n",
        "print(\"a[2:7:1] = \", c)  #slicing leaves the last stop\n",
        "\n",
        "#access 3 elements separated by 2\n",
        "c = a[2:7:2];\n",
        "print(\"a[2:7:2] = \", c)\n",
        "\n",
        "#access all elements with index 3 and above\n",
        "c = a[3::]\n",
        "print(\"a[3::] = \", c)\n",
        "\n",
        "#access all elements with index less than 3\n",
        "c = a[:3]\n",
        "print(\"a[:3] = \",c)\n",
        "\n",
        "#access all elements\n",
        "c = a[:]\n",
        "print(\"a[:] \", c)"
      ],
      "metadata": {
        "colab": {
          "base_uri": "https://localhost:8080/"
        },
        "id": "7g-Wj9LY8Rqj",
        "outputId": "ab1787af-62e4-4d6f-e117-9f4423f85d6c"
      },
      "execution_count": 52,
      "outputs": [
        {
          "output_type": "stream",
          "name": "stdout",
          "text": [
            "a         = [0 1 2 3 4 5 6 7 8 9]\n",
            "a[2:7:1] =  [2 3 4 5 6]\n",
            "a[2:7:2] =  [2 4 6]\n",
            "a[3::] =  [3 4 5 6 7 8 9]\n",
            "a[:3] =  [0 1 2]\n",
            "a[:]  [0 1 2 3 4 5 6 7 8 9]\n"
          ]
        }
      ]
    },
    {
      "cell_type": "markdown",
      "source": [
        "SINGLE VECTOR OPERATIONS"
      ],
      "metadata": {
        "id": "qOe9wuAY9Yp7"
      }
    },
    {
      "cell_type": "code",
      "source": [
        "a = np.array([1,2,3,4])\n",
        "print(f\"a             : {a}\")\n",
        "\n",
        "#negate elements of a\n",
        "b = -a\n",
        "print(f\"b = -a        : {b}\")\n",
        "\n",
        "#sum all elements of a, returns a scalar\n",
        "b = np.sum(a)\n",
        "print(f\"b = np.sum(a) : {b}\")\n",
        "\n",
        "b = np.mean(a)\n",
        "print(f\"b = np.mean(a) : {b}\")\n",
        "\n",
        "b = a**2\n",
        "print(f\"b = a**2      : {b}\")"
      ],
      "metadata": {
        "colab": {
          "base_uri": "https://localhost:8080/"
        },
        "id": "fU_EWx_49YDx",
        "outputId": "bcf10de2-a2be-428a-86e0-0cd4617594a3"
      },
      "execution_count": 53,
      "outputs": [
        {
          "output_type": "stream",
          "name": "stdout",
          "text": [
            "a             : [1 2 3 4]\n",
            "b = -a        : [-1 -2 -3 -4]\n",
            "b = np.sum(a) : 10\n",
            "b = np.mean(a) : 2.5\n",
            "b = a**2      : [ 1  4  9 16]\n"
          ]
        }
      ]
    },
    {
      "cell_type": "markdown",
      "source": [
        "**VECTOR VECTOR ELEMENT WISE OPERATIONS**"
      ],
      "metadata": {
        "id": "XCjL2bzZ-NVF"
      }
    },
    {
      "cell_type": "code",
      "source": [
        "a = np.array([ 1, 2, 3, 4])\n",
        "b = np.array([-1,-2, 3, 4])\n",
        "print(f\"Binary operators work element wise: {a + b}\")\n",
        "print(a.dtype)\n",
        "print(b.dtype)\n",
        "print(a.shape)\n",
        "print(b.shape)"
      ],
      "metadata": {
        "colab": {
          "base_uri": "https://localhost:8080/"
        },
        "id": "T47wH9Zi-jrO",
        "outputId": "96c55ff9-103a-40e1-ddc3-88f4e4e644bb"
      },
      "execution_count": 54,
      "outputs": [
        {
          "output_type": "stream",
          "name": "stdout",
          "text": [
            "Binary operators work element wise: [0 0 6 8]\n",
            "int64\n",
            "int64\n",
            "(4,)\n",
            "(4,)\n"
          ]
        }
      ]
    },
    {
      "cell_type": "code",
      "source": [
        "#try a mismatch vector operations\n",
        "c = np.array([1,2])\n",
        "try:\n",
        "    d = a + c\n",
        "except Exception as e:\n",
        "    print(\"The error message you'll see is:\")\n",
        "    print(e)"
      ],
      "metadata": {
        "colab": {
          "base_uri": "https://localhost:8080/"
        },
        "id": "ayjI_PvbAJDT",
        "outputId": "b60024f0-c3ea-4e15-9c26-9cdde5b1690d"
      },
      "execution_count": 55,
      "outputs": [
        {
          "output_type": "stream",
          "name": "stdout",
          "text": [
            "The error message you'll see is:\n",
            "operands could not be broadcast together with shapes (4,) (2,) \n"
          ]
        }
      ]
    },
    {
      "cell_type": "markdown",
      "source": [
        "**SCALAR VECTOR OPERATIONS**"
      ],
      "metadata": {
        "id": "ZehK3oOSAV-V"
      }
    },
    {
      "cell_type": "code",
      "source": [
        "a = np.array([1,2,3,4])\n",
        "\n",
        "#multiply a by a scalar\n",
        "b = 5 * a\n",
        "print(f\"b = 5 * a : {b}\")"
      ],
      "metadata": {
        "colab": {
          "base_uri": "https://localhost:8080/"
        },
        "id": "pPuKvstCAbYR",
        "outputId": "498d7477-e13b-4305-b921-8aec84db68bb"
      },
      "execution_count": 56,
      "outputs": [
        {
          "output_type": "stream",
          "name": "stdout",
          "text": [
            "b = 5 * a : [ 5 10 15 20]\n"
          ]
        }
      ]
    },
    {
      "cell_type": "markdown",
      "source": [
        "**VECTOR VECTOR DOT PRODUCT**"
      ],
      "metadata": {
        "id": "nVveGaRaAkfP"
      }
    },
    {
      "cell_type": "code",
      "source": [
        "def my_dot(a,b):\n",
        "  \"\"\"\n",
        "  Compute the dot product of two vectors\n",
        "\n",
        "  Args:\n",
        "    a (ndarray (n,)):  input vector\n",
        "    b (ndarray (n,)):  input vector with same dimension as a\n",
        "\n",
        "    Returns:\n",
        "    x (scalar):\n",
        "  \"\"\"\n",
        "  x = 0\n",
        "  for i in range(a.shape[0]):\n",
        "    x = x + a[i] * b[i]\n",
        "  return x\n"
      ],
      "metadata": {
        "id": "DWv7bNCHAq29"
      },
      "execution_count": 57,
      "outputs": []
    },
    {
      "cell_type": "code",
      "source": [
        "# test 1-D\n",
        "a = np.array([1,2,3,4])\n",
        "b = np.array([-1,4,3,2])\n",
        "print(f\"my_dot(a,b) = {my_dot(a,b)}\")\n",
        "c = np.dot(b,a)\n",
        "print(c)\n"
      ],
      "metadata": {
        "colab": {
          "base_uri": "https://localhost:8080/"
        },
        "id": "mS7hdhi6CS5X",
        "outputId": "7a0f93a6-35e5-4548-c695-ec00316edebf"
      },
      "execution_count": 58,
      "outputs": [
        {
          "output_type": "stream",
          "name": "stdout",
          "text": [
            "my_dot(a,b) = 24\n",
            "24\n"
          ]
        }
      ]
    },
    {
      "cell_type": "markdown",
      "source": [
        "**THE NEED FOR SPEED**"
      ],
      "metadata": {
        "id": "8yDusjxUDm9E"
      }
    },
    {
      "cell_type": "code",
      "source": [
        "np.random.seed(1)\n",
        "a = np.random.rand(10000000)\n",
        "b = np.random.rand(10000000)\n",
        "\n",
        "tic = time.time()\n",
        "c = np.dot(a,b)\n",
        "toc = time.time()\n",
        "\n",
        "print(f\"np.dot(a,b) = {c:.4f}\")\n",
        "print(f\"Vectorized version duration: {1000*(toc-tic):.4f} ms\")"
      ],
      "metadata": {
        "colab": {
          "base_uri": "https://localhost:8080/"
        },
        "id": "IlRkagqFDSvz",
        "outputId": "44755523-55f9-4641-f5cf-d7587c1254bf"
      },
      "execution_count": 59,
      "outputs": [
        {
          "output_type": "stream",
          "name": "stdout",
          "text": [
            "np.dot(a,b) = 2501072.5817\n",
            "Vectorized version duration: 17.7283 ms\n"
          ]
        }
      ]
    },
    {
      "cell_type": "code",
      "source": [
        "tic = time.time()\n",
        "c = my_dot(a,b)\n",
        "toc = time.time()\n",
        "\n",
        "print(f\"my_dot(a,b) = {c:.4f}\")\n",
        "print(f\"loop version duration: {1000*(toc-tic):.4f} ms\")"
      ],
      "metadata": {
        "colab": {
          "base_uri": "https://localhost:8080/"
        },
        "id": "YSkEQ_UWJAH4",
        "outputId": "b661de6b-666e-45a6-c62f-40303c85aad6"
      },
      "execution_count": 60,
      "outputs": [
        {
          "output_type": "stream",
          "name": "stdout",
          "text": [
            "my_dot(a,b) = 2501072.5817\n",
            "loop version duration: 3867.4507 ms\n"
          ]
        }
      ]
    },
    {
      "cell_type": "code",
      "source": [
        "#del(a); delete a uncomment\n",
        "#del(b); delete b uncomment\n",
        "a\n",
        "b"
      ],
      "metadata": {
        "colab": {
          "base_uri": "https://localhost:8080/"
        },
        "id": "ukNQxF7ZJav0",
        "outputId": "922b95a8-2896-46b2-f850-be98c1286123"
      },
      "execution_count": 61,
      "outputs": [
        {
          "output_type": "execute_result",
          "data": {
            "text/plain": [
              "array([0.49884527, 0.5194437 , 0.9480511 , ..., 0.99416697, 0.61599986,\n",
              "       0.41453835])"
            ]
          },
          "metadata": {},
          "execution_count": 61
        }
      ]
    },
    {
      "cell_type": "markdown",
      "source": [
        "**VECTOR VECTOR OPERATIONS**"
      ],
      "metadata": {
        "id": "rxfSWnAzJl9C"
      }
    },
    {
      "cell_type": "code",
      "source": [
        "#show common course example\n",
        "X = np.array([[1],[2],[3],[4]])\n",
        "w = np.array([2])\n",
        "c = np.dot(X[1],w)\n",
        "print(c)"
      ],
      "metadata": {
        "colab": {
          "base_uri": "https://localhost:8080/"
        },
        "id": "IlvAVj9NKYA1",
        "outputId": "d96f2faa-63a7-45fe-cecd-1312e6176dec"
      },
      "execution_count": 62,
      "outputs": [
        {
          "output_type": "stream",
          "name": "stdout",
          "text": [
            "4\n"
          ]
        }
      ]
    },
    {
      "cell_type": "code",
      "source": [
        "print(f\"X[1] has shape {X[1].shape}\")\n",
        "print(f\"w has shape {w.shape}\")\n",
        "print(f\"c has shape {c.shape}\")"
      ],
      "metadata": {
        "colab": {
          "base_uri": "https://localhost:8080/"
        },
        "id": "H0HbrcMJKlcB",
        "outputId": "b2966abe-a01b-4b58-fd96-927a36f13487"
      },
      "execution_count": 63,
      "outputs": [
        {
          "output_type": "stream",
          "name": "stdout",
          "text": [
            "X[1] has shape (1,)\n",
            "w has shape (1,)\n",
            "c has shape ()\n"
          ]
        }
      ]
    },
    {
      "cell_type": "markdown",
      "source": [
        "MATRIX CREATION"
      ],
      "metadata": {
        "id": "rUtK_k-8MR7O"
      }
    },
    {
      "cell_type": "code",
      "source": [
        "a = np.zeros((1,5))\n",
        "print(f\"a shape= {a.shape}, a= {a}\")\n",
        "\n",
        "a[0,1] = 5\n",
        "print(f\"a shape= {a.shape}, a= {a}\")\n",
        "\n",
        "a[0,2] = 10\n",
        "print(f\"a shape= {a.shape}, a= {a}\")"
      ],
      "metadata": {
        "colab": {
          "base_uri": "https://localhost:8080/"
        },
        "id": "70OjoRuLMLVN",
        "outputId": "4b8e5351-4d69-4534-f462-36f5d58f6049"
      },
      "execution_count": 64,
      "outputs": [
        {
          "output_type": "stream",
          "name": "stdout",
          "text": [
            "a shape= (1, 5), a= [[0. 0. 0. 0. 0.]]\n",
            "a shape= (1, 5), a= [[0. 5. 0. 0. 0.]]\n",
            "a shape= (1, 5), a= [[ 0.  5. 10.  0.  0.]]\n"
          ]
        }
      ]
    },
    {
      "cell_type": "markdown",
      "source": [
        "Numpy routines which allocate memory and fill user specified values"
      ],
      "metadata": {
        "id": "m8WBNkZiMoYn"
      }
    },
    {
      "cell_type": "code",
      "source": [
        "a = np.array([[5] , [4] , [3]]);\n",
        "print(f\"a shape= {a.shape}, a= {a}\")"
      ],
      "metadata": {
        "colab": {
          "base_uri": "https://localhost:8080/"
        },
        "id": "2j-mRZPTMxgY",
        "outputId": "b7ce8e26-abc1-4820-a625-9c342f6d98b8"
      },
      "execution_count": 65,
      "outputs": [
        {
          "output_type": "stream",
          "name": "stdout",
          "text": [
            "a shape= (3, 1), a= [[5]\n",
            " [4]\n",
            " [3]]\n"
          ]
        }
      ]
    },
    {
      "cell_type": "code",
      "source": [
        "a = np.array([[5], [4], [3]]);\n",
        "print(f\"a shape= {a.shape}, a= {a}\")"
      ],
      "metadata": {
        "colab": {
          "base_uri": "https://localhost:8080/"
        },
        "id": "WkhSY_64NG4N",
        "outputId": "724c1d67-d101-4902-f8d4-d04157b6c9c2"
      },
      "execution_count": 66,
      "outputs": [
        {
          "output_type": "stream",
          "name": "stdout",
          "text": [
            "a shape= (3, 1), a= [[5]\n",
            " [4]\n",
            " [3]]\n"
          ]
        }
      ]
    },
    {
      "cell_type": "markdown",
      "source": [
        "**Operations on Matrices**"
      ],
      "metadata": {
        "id": "ErWRrdUMNWE4"
      }
    },
    {
      "cell_type": "markdown",
      "source": [
        "**Indexing**"
      ],
      "metadata": {
        "id": "PeSTD_R7NgIA"
      }
    },
    {
      "cell_type": "code",
      "source": [
        "a =  np.arange(6).reshape(-1,2)\n",
        "print(f\"a.shape: {a.shape}, \\na= {a}\")"
      ],
      "metadata": {
        "colab": {
          "base_uri": "https://localhost:8080/"
        },
        "id": "-dZKe0QwNewc",
        "outputId": "97a32651-bf58-41d7-ab44-79b34a848d4c"
      },
      "execution_count": 67,
      "outputs": [
        {
          "output_type": "stream",
          "name": "stdout",
          "text": [
            "a.shape: (3, 2), \n",
            "a= [[0 1]\n",
            " [2 3]\n",
            " [4 5]]\n"
          ]
        }
      ]
    },
    {
      "cell_type": "code",
      "source": [
        "#access an element\n",
        "print(f\"\\na[2,0].shape = {a[2,0].shape}\")\n",
        "print(f\"a[2,0] = {a[2,0]}\")\n",
        "print(f\"\\na[2].shape = {a[2].shape}\")\n",
        "print(f\"a[2] = {a[2]}\")\n",
        "print(f\"\\nThe last element is {a[-1,-1]}\")"
      ],
      "metadata": {
        "colab": {
          "base_uri": "https://localhost:8080/"
        },
        "id": "7wcxxug6PeHi",
        "outputId": "963f22a7-f749-4b8d-892e-6a161a840afd"
      },
      "execution_count": 68,
      "outputs": [
        {
          "output_type": "stream",
          "name": "stdout",
          "text": [
            "\n",
            "a[2,0].shape = ()\n",
            "a[2,0] = 4\n",
            "\n",
            "a[2].shape = (2,)\n",
            "a[2] = [4 5]\n",
            "\n",
            "The last element is 5\n"
          ]
        }
      ]
    },
    {
      "cell_type": "markdown",
      "source": [
        "**SLICING**"
      ],
      "metadata": {
        "id": "rN6iZ0UNUuHq"
      }
    },
    {
      "cell_type": "code",
      "source": [
        "#Vector 2-D slicing operations\n",
        "a = np.arange(20).reshape(-1,10)\n",
        "print(f\"a = \\n{a}\")\n",
        "\n",
        "#access 5 consecutive elements (start:stop:step)\n",
        "print(\"a[0,2:7:1] = \", a[0,2:7:1])"
      ],
      "metadata": {
        "colab": {
          "base_uri": "https://localhost:8080/"
        },
        "id": "fODWDvjdUxIG",
        "outputId": "7baff172-5744-41db-9275-e146279b78f0"
      },
      "execution_count": 69,
      "outputs": [
        {
          "output_type": "stream",
          "name": "stdout",
          "text": [
            "a = \n",
            "[[ 0  1  2  3  4  5  6  7  8  9]\n",
            " [10 11 12 13 14 15 16 17 18 19]]\n",
            "a[0,2:7:1] =  [2 3 4 5 6]\n"
          ]
        }
      ]
    },
    {
      "cell_type": "code",
      "source": [
        "#access 5 consecutive elements (start:stop:step) in 2 rows\n",
        "print(\"a[:,2:7:1] = \\n\", a[:,2:7:1])"
      ],
      "metadata": {
        "colab": {
          "base_uri": "https://localhost:8080/"
        },
        "id": "Yg2nK-BEVIBk",
        "outputId": "bd837e44-c200-42a3-85a3-a6fc85379cb4"
      },
      "execution_count": 70,
      "outputs": [
        {
          "output_type": "stream",
          "name": "stdout",
          "text": [
            "a[:,2:7:1] = \n",
            " [[ 2  3  4  5  6]\n",
            " [12 13 14 15 16]]\n"
          ]
        }
      ]
    },
    {
      "cell_type": "code",
      "source": [
        "#access all elements\n",
        "print(\"a[:,:] = \\n\", a[:,:])"
      ],
      "metadata": {
        "colab": {
          "base_uri": "https://localhost:8080/"
        },
        "id": "YvZ7X7e5WtVb",
        "outputId": "6f8a938e-d7d2-4065-8880-d7fa6f3597e9"
      },
      "execution_count": 71,
      "outputs": [
        {
          "output_type": "stream",
          "name": "stdout",
          "text": [
            "a[:,:] = \n",
            " [[ 0  1  2  3  4  5  6  7  8  9]\n",
            " [10 11 12 13 14 15 16 17 18 19]]\n"
          ]
        }
      ]
    },
    {
      "cell_type": "code",
      "source": [
        "#access all elemens in one row(very common usage)\n",
        "print(\"a[1,:] = \", a[1,:])\n"
      ],
      "metadata": {
        "colab": {
          "base_uri": "https://localhost:8080/"
        },
        "id": "vrBsJrAoWzhm",
        "outputId": "42df3f97-fa43-43fb-805a-6f2d93492763"
      },
      "execution_count": 72,
      "outputs": [
        {
          "output_type": "stream",
          "name": "stdout",
          "text": [
            "a[1,:] =  [10 11 12 13 14 15 16 17 18 19]\n"
          ]
        }
      ]
    },
    {
      "cell_type": "code",
      "source": [
        "#same as\n",
        "print(\"a[1] = \", a[1])"
      ],
      "metadata": {
        "colab": {
          "base_uri": "https://localhost:8080/"
        },
        "id": "QemM9emAW-0G",
        "outputId": "db4704b8-e36e-449e-ed97-0fc9543d08ce"
      },
      "execution_count": 73,
      "outputs": [
        {
          "output_type": "stream",
          "name": "stdout",
          "text": [
            "a[1] =  [10 11 12 13 14 15 16 17 18 19]\n"
          ]
        }
      ]
    }
  ]
}